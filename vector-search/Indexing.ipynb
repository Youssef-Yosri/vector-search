{
 "cells": [
  {
   "cell_type": "code",
   "execution_count": 3,
   "id": "412c60e5-6421-4adf-ae7d-a46961f572d9",
   "metadata": {},
   "outputs": [],
   "source": [
    "from pymongo import MongoClient\n",
    "import numpy as np\n",
    "\n",
    "# Connect to MongoDB\n",
    "client = MongoClient('mongodb://localhost:27017/')\n",
    "db = client['VectorDBPython']\n",
    "collection = db['CVs']\n",
    "\n",
    "# Retrieve vectors from MongoDB\n",
    "vectors = []\n",
    "text = []\n",
    "for doc in collection.find():\n",
    "    vectors.append(doc['embedding'])\n",
    "    text.append(doc['text_excerpt'])  # To keep track of which document each vector belongs to\n",
    "\n",
    "vectors = np.array(vectors, dtype='float32')"
   ]
  },
  {
   "cell_type": "code",
   "execution_count": 4,
   "id": "6d2841d6-5cd4-4c2c-b9ff-d8945afdb2fa",
   "metadata": {},
   "outputs": [
    {
     "name": "stdout",
     "output_type": "stream",
     "text": [
      "Vectors shape: (11, 1024)\n",
      "Norms statistics - Min: 7.9175515 Max: 16.900276 Mean: 9.136166\n",
      "Recomputed norms - Min: 0.99999994 Max: 1.0000001 Mean: 1.0\n"
     ]
    }
   ],
   "source": [
    "import faiss\n",
    "\n",
    "vectors = np.squeeze(vectors)\n",
    "print(\"Vectors shape:\", vectors.shape)\n",
    "\n",
    "# Normalize vectors for cosine similarity\n",
    "norms = np.linalg.norm(vectors, axis=1, keepdims=True)\n",
    "vectors /= norms\n",
    "\n",
    "print(\"Norms statistics - Min:\", norms.min(), \"Max:\", norms.max(), \"Mean:\", norms.mean())\n",
    "\n",
    "# Recompute norms to confirm\n",
    "norms = np.linalg.norm(vectors, axis=1, keepdims=True)\n",
    "# Normalize vectors again\n",
    "vectors /= norms\n",
    "print(\"Recomputed norms - Min:\", norms.min(), \"Max:\", norms.max(), \"Mean:\", norms.mean())\n",
    "\n",
    "# Create a Faiss index for inner product (cosine similarity)\n",
    "index = faiss.IndexFlatIP(vectors.shape[1])\n",
    "index.add(vectors)\n",
    "\n",
    "# Optionally, save the Faiss index to a file\n",
    "faiss.write_index(index, 'faiss_index.index')"
   ]
  },
  {
   "cell_type": "code",
   "execution_count": null,
   "id": "dcef9f3f-78c3-48f2-950e-39aaf40644a7",
   "metadata": {},
   "outputs": [],
   "source": []
  }
 ],
 "metadata": {
  "kernelspec": {
   "display_name": "Python 3 (ipykernel)",
   "language": "python",
   "name": "python3"
  },
  "language_info": {
   "codemirror_mode": {
    "name": "ipython",
    "version": 3
   },
   "file_extension": ".py",
   "mimetype": "text/x-python",
   "name": "python",
   "nbconvert_exporter": "python",
   "pygments_lexer": "ipython3",
   "version": "3.9.19"
  }
 },
 "nbformat": 4,
 "nbformat_minor": 5
}
